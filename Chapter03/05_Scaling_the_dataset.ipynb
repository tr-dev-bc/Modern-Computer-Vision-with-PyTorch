{
  "nbformat": 4,
  "nbformat_minor": 0,
  "metadata": {
    "colab": {
      "name": "Scaling_the_dataset.ipynb",
      "provenance": [],
      "include_colab_link": true
    },
    "kernelspec": {
      "name": "python3",
      "display_name": "Python 3"
    },
    "accelerator": "GPU"
  },
  "cells": [
    {
      "cell_type": "markdown",
      "metadata": {
        "id": "view-in-github",
        "colab_type": "text"
      },
      "source": [
        "<a href=\"https://colab.research.google.com/github/tr-dev-bc/Modern-Computer-Vision-with-PyTorch/blob/master/Chapter03/05_Scaling_the_dataset.ipynb\" target=\"_parent\"><img src=\"https://colab.research.google.com/assets/colab-badge.svg\" alt=\"Open In Colab\"/></a>"
      ]
    },
    {
      "cell_type": "code",
      "metadata": {
        "id": "BxsPKPdQ12jg"
      },
      "source": [
        "from torchvision import datasets\n",
        "from torch.utils.data import Dataset, DataLoader\n",
        "import torch\n",
        "import torch.nn as nn\n",
        "device = \"cuda\" if torch.cuda.is_available() else \"cpu\"\n",
        "import numpy as np\n",
        "data_folder = '~/data/FMNIST' # This can be any directory you want\n",
        "# to download FMNIST to\n",
        "fmnist = datasets.FashionMNIST(data_folder, download=True, train=True)\n",
        "tr_images = fmnist.data\n",
        "tr_targets = fmnist.targets"
      ],
      "execution_count": null,
      "outputs": []
    },
    {
      "cell_type": "code",
      "metadata": {
        "id": "d4iqXqYb14wL"
      },
      "source": [
        "class FMNISTDataset(Dataset):\n",
        "    def __init__(self, x, y):\n",
        "        x = x.float()/255\n",
        "        x = x.view(-1,28*28)\n",
        "        self.x, self.y = x, y\n",
        "    def __getitem__(self, ix):\n",
        "        x, y = self.x[ix], self.y[ix]\n",
        "        return x.to(device), y.to(device)\n",
        "    def __len__(self):\n",
        "        return len(self.x)"
      ],
      "execution_count": null,
      "outputs": []
    },
    {
      "cell_type": "code",
      "metadata": {
        "id": "9bH5VEys19M4"
      },
      "source": [
        "def get_data():\n",
        "    train = FMNISTDataset(tr_images, tr_targets)\n",
        "    trn_dl = DataLoader(train, batch_size=32, shuffle=True)\n",
        "    return trn_dl\n",
        "from torch.optim import SGD\n",
        "def get_model():\n",
        "    model = nn.Sequential(\n",
        "        nn.Linear(28 * 28, 1000),\n",
        "        nn.ReLU(),\n",
        "        nn.Linear(1000, 10)\n",
        "    ).to(device)\n",
        "    loss_fn = nn.CrossEntropyLoss()\n",
        "    optimizer = SGD(model.parameters(), lr=1e-2)\n",
        "    return model, loss_fn, optimizer\n",
        "def train_batch(x, y, model, opt, loss_fn):\n",
        "    model.train()\n",
        "    # call your model like any python function on your batch of inputs\n",
        "    prediction = model(x)\n",
        "    # compute loss\n",
        "    batch_loss = loss_fn(prediction, y)\n",
        "    # based on the forward pass in `model(x)` compute all the gradients of\n",
        "    # 'model.parameters()'\n",
        "    batch_loss.backward()\n",
        "    # apply new-weights = f(old-weights, old-weight-gradients)\n",
        "    # where \"f\" is the optimizer\n",
        "    optimizer.step()\n",
        "    # Flush memory for next batch of calculations\n",
        "    optimizer.zero_grad()\n",
        "    return batch_loss.item()\n",
        "def accuracy(x, y, model):\n",
        "    model.eval()\n",
        "    # since there's no need for updating weights, we might\n",
        "    # as well not compute the gradients\n",
        "    with torch.no_grad():\n",
        "        # get the prediction matrix for a tensor of `x` images\n",
        "        prediction = model(x)\n",
        "    # compute if the location of maximum in each row coincides\n",
        "    # with ground truth\n",
        "    max_values, argmaxes = prediction.max(-1)\n",
        "    is_correct = argmaxes == y\n",
        "    return is_correct.cpu().numpy().tolist()\n",
        "trn_dl = get_data()\n",
        "model, loss_fn, optimizer = get_model()\n",
        "losses, accuracies = [], []\n",
        "for epoch in range(5):\n",
        "    print(epoch)\n",
        "    epoch_losses, epoch_accuracies = [], []\n",
        "    for ix, batch in enumerate(iter(trn_dl)):\n",
        "        x, y = batch\n",
        "        batch_loss = train_batch(x, y, model, optimizer, loss_fn)\n",
        "        epoch_losses.append(batch_loss)\n",
        "    epoch_loss = np.array(epoch_losses).mean()\n",
        "    for ix, batch in enumerate(iter(trn_dl)):\n",
        "        x, y = batch\n",
        "        is_correct = accuracy(x, y, model)\n",
        "        epoch_accuracies.extend(is_correct)\n",
        "    epoch_accuracy = np.mean(epoch_accuracies)\n",
        "    losses.append(epoch_loss)\n",
        "    accuracies.append(epoch_accuracy)"
      ],
      "execution_count": null,
      "outputs": []
    },
    {
      "cell_type": "code",
      "metadata": {
        "id": "2tIuYppL2Bj9"
      },
      "source": [
        "epochs = np.arange(5)+1\n",
        "import matplotlib.pyplot as plt\n",
        "%matplotlib inline\n",
        "plt.figure(figsize=(20,5))\n",
        "plt.subplot(121)\n",
        "plt.title('Loss value over increasing epochs')\n",
        "plt.plot(epochs, losses, label='Training Loss')\n",
        "plt.legend()\n",
        "plt.subplot(122)\n",
        "plt.title('Accuracy value over increasing epochs')\n",
        "plt.plot(epochs, accuracies, label='Training Accuracy')\n",
        "plt.gca().set_yticklabels(['{:.0f}%'.format(x*100) for x in plt.gca().get_yticks()])\n",
        "plt.legend()"
      ],
      "execution_count": null,
      "outputs": []
    },
    {
      "cell_type": "code",
      "metadata": {
        "id": "l6YOA3y52QnM"
      },
      "source": [],
      "execution_count": null,
      "outputs": []
    }
  ]
}