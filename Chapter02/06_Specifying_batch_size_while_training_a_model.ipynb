{
  "nbformat": 4,
  "nbformat_minor": 0,
  "metadata": {
    "colab": {
      "name": "Specifying_batch_size_while_training_a_model.ipynb",
      "provenance": [],
      "include_colab_link": true
    },
    "kernelspec": {
      "display_name": "Python 3",
      "language": "python",
      "name": "python3"
    },
    "language_info": {
      "codemirror_mode": {
        "name": "ipython",
        "version": 3
      },
      "file_extension": ".py",
      "mimetype": "text/x-python",
      "name": "python",
      "nbconvert_exporter": "python",
      "pygments_lexer": "ipython3",
      "version": "3.7.6"
    }
  },
  "cells": [
    {
      "cell_type": "markdown",
      "metadata": {
        "id": "view-in-github",
        "colab_type": "text"
      },
      "source": [
        "<a href=\"https://colab.research.google.com/github/tr-dev-bc/Modern-Computer-Vision-with-PyTorch/blob/master/Chapter02/06_Specifying_batch_size_while_training_a_model.ipynb\" target=\"_parent\"><img src=\"https://colab.research.google.com/assets/colab-badge.svg\" alt=\"Open In Colab\"/></a>"
      ]
    },
    {
      "cell_type": "code",
      "metadata": {
        "ExecuteTime": {
          "end_time": "2020-09-25T19:38:09.313991Z",
          "start_time": "2020-09-25T19:38:09.019280Z"
        },
        "id": "qMRMqX5bxknN"
      },
      "source": [
        "from torch.utils.data import Dataset, DataLoader\n",
        "import torch\n",
        "import torch.nn as nn"
      ],
      "execution_count": 1,
      "outputs": []
    },
    {
      "cell_type": "code",
      "metadata": {
        "ExecuteTime": {
          "end_time": "2020-09-25T19:38:09.317494Z",
          "start_time": "2020-09-25T19:38:09.315108Z"
        },
        "id": "pwlhqEFtxldo"
      },
      "source": [
        "x = [[1,2],[3,4],[5,6],[7,8]]\n",
        "y = [[3],[7],[11],[15]]"
      ],
      "execution_count": 2,
      "outputs": []
    },
    {
      "cell_type": "code",
      "metadata": {
        "ExecuteTime": {
          "end_time": "2020-09-25T19:38:09.322276Z",
          "start_time": "2020-09-25T19:38:09.319108Z"
        },
        "id": "Xvn8m82PxqGL"
      },
      "source": [
        "X = torch.tensor(x).float()\n",
        "Y = torch.tensor(y).float()"
      ],
      "execution_count": 3,
      "outputs": []
    },
    {
      "cell_type": "code",
      "metadata": {
        "ExecuteTime": {
          "end_time": "2020-09-25T19:38:10.908620Z",
          "start_time": "2020-09-25T19:38:09.324375Z"
        },
        "id": "suZ9rXQqxrUi"
      },
      "source": [
        "device = 'cuda' if torch.cuda.is_available() else 'cpu'\n",
        "X = X.to(device)\n",
        "Y = Y.to(device)"
      ],
      "execution_count": 4,
      "outputs": []
    },
    {
      "cell_type": "code",
      "metadata": {
        "ExecuteTime": {
          "end_time": "2020-09-25T19:38:10.913405Z",
          "start_time": "2020-09-25T19:38:10.909638Z"
        },
        "id": "GZwy83Zaxsrw",
        "outputId": "68c67245-7ae7-490f-a53c-2638e95c6277",
        "colab": {
          "base_uri": "https://localhost:8080/"
        }
      },
      "source": [
        "class MyDataset(Dataset):\n",
        "    def __init__(self,x,y):\n",
        "        self.x = torch.tensor(x).float()\n",
        "        self.y = torch.tensor(y).float()\n",
        "    def __len__(self):\n",
        "        return len(self.x)\n",
        "    def __getitem__(self, ix):\n",
        "        return self.x[ix], self.y[ix]\n",
        "ds = MyDataset(X, Y)"
      ],
      "execution_count": 5,
      "outputs": [
        {
          "output_type": "stream",
          "name": "stderr",
          "text": [
            "<ipython-input-5-03b03d44d9a3>:3: UserWarning: To copy construct from a tensor, it is recommended to use sourceTensor.clone().detach() or sourceTensor.clone().detach().requires_grad_(True), rather than torch.tensor(sourceTensor).\n",
            "  self.x = torch.tensor(x).float()\n",
            "<ipython-input-5-03b03d44d9a3>:4: UserWarning: To copy construct from a tensor, it is recommended to use sourceTensor.clone().detach() or sourceTensor.clone().detach().requires_grad_(True), rather than torch.tensor(sourceTensor).\n",
            "  self.y = torch.tensor(y).float()\n"
          ]
        }
      ]
    },
    {
      "cell_type": "code",
      "metadata": {
        "ExecuteTime": {
          "end_time": "2020-09-25T19:38:10.917418Z",
          "start_time": "2020-09-25T19:38:10.915031Z"
        },
        "id": "K28I9mj-x1yB"
      },
      "source": [
        "dl = DataLoader(ds, batch_size=2, shuffle=True)"
      ],
      "execution_count": 6,
      "outputs": []
    },
    {
      "cell_type": "code",
      "metadata": {
        "ExecuteTime": {
          "end_time": "2020-09-25T19:38:10.922176Z",
          "start_time": "2020-09-25T19:38:10.918671Z"
        },
        "id": "i1uNDQLDx3bb"
      },
      "source": [
        "class MyNeuralNet(nn.Module):\n",
        "    def __init__(self):\n",
        "        super().__init__()\n",
        "        self.input_to_hidden_layer = nn.Linear(2,8)\n",
        "        self.hidden_layer_activation = nn.ReLU()\n",
        "        self.hidden_to_output_layer = nn.Linear(8,1)\n",
        "    def forward(self, x):\n",
        "        x = self.input_to_hidden_layer(x)\n",
        "        x = self.hidden_layer_activation(x)\n",
        "        x = self.hidden_to_output_layer(x)\n",
        "        return x"
      ],
      "execution_count": 7,
      "outputs": []
    },
    {
      "cell_type": "code",
      "metadata": {
        "ExecuteTime": {
          "end_time": "2020-09-25T19:38:10.928421Z",
          "start_time": "2020-09-25T19:38:10.924741Z"
        },
        "id": "M5GAnaPmx5w5"
      },
      "source": [
        "mynet = MyNeuralNet().to(device)\n",
        "loss_func = nn.MSELoss()\n",
        "from torch.optim import SGD\n",
        "opt = SGD(mynet.parameters(), lr = 0.001)"
      ],
      "execution_count": 8,
      "outputs": []
    },
    {
      "cell_type": "code",
      "metadata": {
        "ExecuteTime": {
          "end_time": "2020-09-25T19:38:11.011394Z",
          "start_time": "2020-09-25T19:38:10.929771Z"
        },
        "id": "_da8xi-9x7oJ",
        "outputId": "ccbf94b4-90f2-4172-8e87-04fff9e4b8d7",
        "colab": {
          "base_uri": "https://localhost:8080/"
        }
      },
      "source": [
        "import time\n",
        "loss_history = []\n",
        "start = time.time()\n",
        "for _ in range(50):\n",
        "    for data in dl:\n",
        "        x, y = data\n",
        "        opt.zero_grad()\n",
        "        loss_value = loss_func(mynet(x),y)\n",
        "        loss_value.backward()\n",
        "        opt.step()\n",
        "        loss_history.append(loss_value)\n",
        "end = time.time()\n",
        "print(end - start)"
      ],
      "execution_count": 9,
      "outputs": [
        {
          "output_type": "stream",
          "name": "stdout",
          "text": [
            "0.2811293601989746\n"
          ]
        }
      ]
    },
    {
      "cell_type": "code",
      "metadata": {
        "ExecuteTime": {
          "end_time": "2020-09-25T19:38:11.014114Z",
          "start_time": "2020-09-25T19:38:11.012332Z"
        },
        "id": "ou1Hdxb4x9TP"
      },
      "source": [
        "val_x = [[10,11]]"
      ],
      "execution_count": 10,
      "outputs": []
    },
    {
      "cell_type": "code",
      "metadata": {
        "ExecuteTime": {
          "end_time": "2020-09-25T19:38:11.017321Z",
          "start_time": "2020-09-25T19:38:11.015262Z"
        },
        "id": "OtA5Oswrx_Sl"
      },
      "source": [
        "val_x = torch.tensor(val_x).float().to(device)"
      ],
      "execution_count": 11,
      "outputs": []
    },
    {
      "cell_type": "code",
      "metadata": {
        "ExecuteTime": {
          "end_time": "2020-09-25T19:38:11.025594Z",
          "start_time": "2020-09-25T19:38:11.018406Z"
        },
        "id": "UysdiiFSyAf1",
        "outputId": "e570daba-38aa-4d9d-a46f-06b3f5ef0c14",
        "colab": {
          "base_uri": "https://localhost:8080/"
        }
      },
      "source": [
        "mynet(val_x)"
      ],
      "execution_count": 12,
      "outputs": [
        {
          "output_type": "execute_result",
          "data": {
            "text/plain": [
              "tensor([[20.4424]], grad_fn=<AddmmBackward0>)"
            ]
          },
          "metadata": {},
          "execution_count": 12
        }
      ]
    },
    {
      "cell_type": "code",
      "metadata": {
        "id": "rHYynD1wyByW"
      },
      "source": [],
      "execution_count": 12,
      "outputs": []
    }
  ]
}