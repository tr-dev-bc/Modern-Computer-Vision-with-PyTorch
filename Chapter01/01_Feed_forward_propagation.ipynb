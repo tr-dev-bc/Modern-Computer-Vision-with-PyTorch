{
  "nbformat": 4,
  "nbformat_minor": 0,
  "metadata": {
    "colab": {
      "name": "Feed_forward_propagation.ipynb",
      "provenance": [],
      "include_colab_link": true
    },
    "kernelspec": {
      "display_name": "Python 3",
      "language": "python",
      "name": "python3"
    },
    "language_info": {
      "codemirror_mode": {
        "name": "ipython",
        "version": 3
      },
      "file_extension": ".py",
      "mimetype": "text/x-python",
      "name": "python",
      "nbconvert_exporter": "python",
      "pygments_lexer": "ipython3",
      "version": "3.7.6"
    }
  },
  "cells": [
    {
      "cell_type": "markdown",
      "metadata": {
        "id": "view-in-github",
        "colab_type": "text"
      },
      "source": [
        "<a href=\"https://colab.research.google.com/github/tr-dev-bc/Modern-Computer-Vision-with-PyTorch/blob/master/Chapter01/01_Feed_forward_propagation.ipynb\" target=\"_parent\"><img src=\"https://colab.research.google.com/assets/colab-badge.svg\" alt=\"Open In Colab\"/></a>"
      ]
    },
    {
      "cell_type": "markdown",
      "metadata": {
        "id": "Uk4Fezbb9SZc"
      },
      "source": [
        "### Forward Propagation"
      ]
    },
    {
      "cell_type": "code",
      "metadata": {
        "ExecuteTime": {
          "end_time": "2020-09-24T12:46:03.594770Z",
          "start_time": "2020-09-24T12:46:03.589643Z"
        },
        "id": "VytiqjTQgwf4"
      },
      "source": [
        "import numpy as np\n",
        "# weights are randomly initialized in first iteration\n",
        "def feed_forward(inputs, outputs, weights):\n",
        "    # the input layer is connected to the first hidden layer by matrix mult (dot product) & adding bias\n",
        "    pre_hidden = np.dot(inputs,weights[0])+ weights[1]\n",
        "    # the 'hidden' value here is the activation applied to the evaluated dot product (pre_hidden)\n",
        "    hidden = 1/(1+np.exp(-pre_hidden))\n",
        "    # the output layer is connected to the evaluated value of the HL\n",
        "    pred_out = np.dot(hidden, weights[2]) + weights[3]\n",
        "    # predicted - observed\n",
        "    mean_squared_error = np.mean(np.square(pred_out - outputs))\n",
        "    return mean_squared_error"
      ],
      "execution_count": 3,
      "outputs": []
    },
    {
      "cell_type": "code",
      "source": [
        ""
      ],
      "metadata": {
        "id": "XYpE2gSZ40cf"
      },
      "execution_count": null,
      "outputs": []
    }
  ]
}